{
 "cells": [
  {
   "cell_type": "code",
   "execution_count": null,
   "metadata": {},
   "outputs": [],
   "source": [
    "import os\n",
    "import pandas as pd\n",
    "from app.chainstate import ChainState, TestResults\n",
    "from app.util import tg_home\n",
    "\n",
    "runner = 'local_exec'\n",
    "plan = 'lotus-soup'\n",
    "runid = '0cc4790cd4c3'\n",
    "\n",
    "output_dir = os.path.join(tg_home(), 'data', 'outputs', runner, plan, runid)\n",
    "\n",
    "\n",
    "tr = TestResults(output_dir)\n",
    "\n",
    "cs = tr.states['miners/0']"
   ]
  },
  {
   "cell_type": "code",
   "execution_count": null,
   "metadata": {},
   "outputs": [],
   "source": [
    "tr.head_change_step_chart()"
   ]
  },
  {
   "cell_type": "code",
   "execution_count": null,
   "metadata": {},
   "outputs": [],
   "source": [
    "# choose which col to plot using a widget\n",
    "\n",
    "cs.line_chart_selector_panel()"
   ]
  },
  {
   "cell_type": "code",
   "execution_count": null,
   "metadata": {
    "scrolled": true
   },
   "outputs": [],
   "source": [
    "# plot all line charts in a vertical stack\n",
    "\n",
    "cs.line_chart_stack()"
   ]
  },
  {
   "cell_type": "code",
   "execution_count": null,
   "metadata": {},
   "outputs": [],
   "source": [
    "# miner power area chart\n",
    "\n",
    "cs.stacked_area()"
   ]
  },
  {
   "cell_type": "code",
   "execution_count": null,
   "metadata": {
    "scrolled": true
   },
   "outputs": [],
   "source": [
    "cs.head_change_step_chart()"
   ]
  }
 ],
 "metadata": {
  "kernelspec": {
   "display_name": "Python 3",
   "language": "python",
   "name": "python3"
  },
  "language_info": {
   "codemirror_mode": {
    "name": "ipython",
    "version": 3
   },
   "file_extension": ".py",
   "mimetype": "text/x-python",
   "name": "python",
   "nbconvert_exporter": "python",
   "pygments_lexer": "ipython3",
   "version": "3.8.4"
  }
 },
 "nbformat": 4,
 "nbformat_minor": 4
}
